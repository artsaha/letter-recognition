{
 "cells": [
  {
   "cell_type": "code",
   "execution_count": 1,
   "metadata": {},
   "outputs": [],
   "source": [
    "import numpy as np\n",
    "import pandas as pd \n",
    "\n",
    "testing_letter = pd.read_csv('./emnist_encoded_test.csv')\n",
    "training_letter = pd.read_csv('./emnist_encoded_train.csv')\n"
   ]
  },
  {
   "cell_type": "markdown",
   "metadata": {},
   "source": [
    "Arbi found the dataset, analysed it.\n",
    "I performed one-hot encoding, normalisation of the data.\n",
    "Algorithm is jointly developed and is yet to be improved. (in terms of accuracy)"
   ]
  },
  {
   "cell_type": "code",
   "execution_count": 2,
   "metadata": {},
   "outputs": [
    {
     "name": "stdout",
     "output_type": "stream",
     "text": [
      "(88799, 810)\n",
      "(14799, 803)\n"
     ]
    }
   ],
   "source": [
    "print(training_letter.shape)\n",
    "print(testing_letter.shape)"
   ]
  },
  {
   "cell_type": "code",
   "execution_count": 2,
   "metadata": {},
   "outputs": [
    {
     "data": {
      "text/html": [
       "<div>\n",
       "<style scoped>\n",
       "    .dataframe tbody tr th:only-of-type {\n",
       "        vertical-align: middle;\n",
       "    }\n",
       "\n",
       "    .dataframe tbody tr th {\n",
       "        vertical-align: top;\n",
       "    }\n",
       "\n",
       "    .dataframe thead th {\n",
       "        text-align: right;\n",
       "    }\n",
       "</style>\n",
       "<table border=\"1\" class=\"dataframe\">\n",
       "  <thead>\n",
       "    <tr style=\"text-align: right;\">\n",
       "      <th></th>\n",
       "      <th>0.0</th>\n",
       "      <th>0.0.1</th>\n",
       "      <th>0.0.2</th>\n",
       "      <th>0.0.3</th>\n",
       "      <th>0.0.4</th>\n",
       "      <th>0.0.5</th>\n",
       "      <th>0.0.6</th>\n",
       "      <th>0.0.7</th>\n",
       "      <th>0.0.8</th>\n",
       "      <th>0.0.9</th>\n",
       "      <th>...</th>\n",
       "      <th>0.406</th>\n",
       "      <th>0.407</th>\n",
       "      <th>0.408</th>\n",
       "      <th>0.409</th>\n",
       "      <th>0.410</th>\n",
       "      <th>0.411</th>\n",
       "      <th>0.412</th>\n",
       "      <th>0.413</th>\n",
       "      <th>0.414</th>\n",
       "      <th>0.415</th>\n",
       "    </tr>\n",
       "  </thead>\n",
       "  <tbody>\n",
       "    <tr>\n",
       "      <th>0</th>\n",
       "      <td>0.0</td>\n",
       "      <td>0.0</td>\n",
       "      <td>0.0</td>\n",
       "      <td>0.0</td>\n",
       "      <td>0.0</td>\n",
       "      <td>0.0</td>\n",
       "      <td>1.0</td>\n",
       "      <td>0.0</td>\n",
       "      <td>0.0</td>\n",
       "      <td>0.0</td>\n",
       "      <td>...</td>\n",
       "      <td>0</td>\n",
       "      <td>0</td>\n",
       "      <td>0</td>\n",
       "      <td>0</td>\n",
       "      <td>0</td>\n",
       "      <td>0</td>\n",
       "      <td>0</td>\n",
       "      <td>0</td>\n",
       "      <td>0</td>\n",
       "      <td>0</td>\n",
       "    </tr>\n",
       "    <tr>\n",
       "      <th>1</th>\n",
       "      <td>0.0</td>\n",
       "      <td>0.0</td>\n",
       "      <td>0.0</td>\n",
       "      <td>0.0</td>\n",
       "      <td>0.0</td>\n",
       "      <td>0.0</td>\n",
       "      <td>0.0</td>\n",
       "      <td>0.0</td>\n",
       "      <td>0.0</td>\n",
       "      <td>0.0</td>\n",
       "      <td>...</td>\n",
       "      <td>0</td>\n",
       "      <td>0</td>\n",
       "      <td>0</td>\n",
       "      <td>0</td>\n",
       "      <td>0</td>\n",
       "      <td>0</td>\n",
       "      <td>0</td>\n",
       "      <td>0</td>\n",
       "      <td>0</td>\n",
       "      <td>0</td>\n",
       "    </tr>\n",
       "    <tr>\n",
       "      <th>2</th>\n",
       "      <td>0.0</td>\n",
       "      <td>0.0</td>\n",
       "      <td>0.0</td>\n",
       "      <td>0.0</td>\n",
       "      <td>0.0</td>\n",
       "      <td>0.0</td>\n",
       "      <td>0.0</td>\n",
       "      <td>0.0</td>\n",
       "      <td>0.0</td>\n",
       "      <td>0.0</td>\n",
       "      <td>...</td>\n",
       "      <td>0</td>\n",
       "      <td>0</td>\n",
       "      <td>0</td>\n",
       "      <td>0</td>\n",
       "      <td>0</td>\n",
       "      <td>0</td>\n",
       "      <td>0</td>\n",
       "      <td>0</td>\n",
       "      <td>0</td>\n",
       "      <td>0</td>\n",
       "    </tr>\n",
       "    <tr>\n",
       "      <th>3</th>\n",
       "      <td>0.0</td>\n",
       "      <td>0.0</td>\n",
       "      <td>0.0</td>\n",
       "      <td>0.0</td>\n",
       "      <td>0.0</td>\n",
       "      <td>0.0</td>\n",
       "      <td>0.0</td>\n",
       "      <td>0.0</td>\n",
       "      <td>0.0</td>\n",
       "      <td>0.0</td>\n",
       "      <td>...</td>\n",
       "      <td>0</td>\n",
       "      <td>0</td>\n",
       "      <td>0</td>\n",
       "      <td>0</td>\n",
       "      <td>0</td>\n",
       "      <td>0</td>\n",
       "      <td>0</td>\n",
       "      <td>0</td>\n",
       "      <td>0</td>\n",
       "      <td>0</td>\n",
       "    </tr>\n",
       "    <tr>\n",
       "      <th>4</th>\n",
       "      <td>0.0</td>\n",
       "      <td>0.0</td>\n",
       "      <td>0.0</td>\n",
       "      <td>0.0</td>\n",
       "      <td>0.0</td>\n",
       "      <td>0.0</td>\n",
       "      <td>0.0</td>\n",
       "      <td>0.0</td>\n",
       "      <td>0.0</td>\n",
       "      <td>0.0</td>\n",
       "      <td>...</td>\n",
       "      <td>0</td>\n",
       "      <td>0</td>\n",
       "      <td>0</td>\n",
       "      <td>0</td>\n",
       "      <td>0</td>\n",
       "      <td>0</td>\n",
       "      <td>0</td>\n",
       "      <td>0</td>\n",
       "      <td>0</td>\n",
       "      <td>0</td>\n",
       "    </tr>\n",
       "  </tbody>\n",
       "</table>\n",
       "<p>5 rows × 810 columns</p>\n",
       "</div>"
      ],
      "text/plain": [
       "   0.0  0.0.1  0.0.2  0.0.3  0.0.4  0.0.5  0.0.6  0.0.7  0.0.8  0.0.9  ...  \\\n",
       "0  0.0    0.0    0.0    0.0    0.0    0.0    1.0    0.0    0.0    0.0  ...   \n",
       "1  0.0    0.0    0.0    0.0    0.0    0.0    0.0    0.0    0.0    0.0  ...   \n",
       "2  0.0    0.0    0.0    0.0    0.0    0.0    0.0    0.0    0.0    0.0  ...   \n",
       "3  0.0    0.0    0.0    0.0    0.0    0.0    0.0    0.0    0.0    0.0  ...   \n",
       "4  0.0    0.0    0.0    0.0    0.0    0.0    0.0    0.0    0.0    0.0  ...   \n",
       "\n",
       "   0.406  0.407  0.408  0.409  0.410  0.411  0.412  0.413  0.414  0.415  \n",
       "0      0      0      0      0      0      0      0      0      0      0  \n",
       "1      0      0      0      0      0      0      0      0      0      0  \n",
       "2      0      0      0      0      0      0      0      0      0      0  \n",
       "3      0      0      0      0      0      0      0      0      0      0  \n",
       "4      0      0      0      0      0      0      0      0      0      0  \n",
       "\n",
       "[5 rows x 810 columns]"
      ]
     },
     "execution_count": 2,
     "metadata": {},
     "output_type": "execute_result"
    }
   ],
   "source": [
    "training_letter.head()"
   ]
  },
  {
   "cell_type": "code",
   "execution_count": 3,
   "metadata": {},
   "outputs": [
    {
     "name": "stdout",
     "output_type": "stream",
     "text": [
      "(88799, 26)\n",
      "(88799, 784)\n"
     ]
    }
   ],
   "source": [
    "#training_letters\n",
    "y1 = np.array(training_letter.iloc[:,:26].values) ## The first 26 columns correspond one-hot-encoded to labels\n",
    "x1 = np.array(training_letter.iloc[:,26:].values) ## All the other columns correspond to pixel values for each 28x28 image , to know the amount of images  \n",
    "#testing_letters                          ## in front of each label, we have 784 values in a row, which correspond to pixels in a single image of that label\n",
    "y2 = np.array(testing_letter.iloc[:,:19].values)  ## LABELS \n",
    "x2 = np.array(testing_letter.iloc[:,19:].values)\n",
    "\n",
    "print(y1.shape)\n",
    "print(x1.shape)"
   ]
  },
  {
   "cell_type": "code",
   "execution_count": 31,
   "metadata": {},
   "outputs": [
    {
     "data": {
      "image/png": "[encoded data removed]",
      "text/plain": [
       "<Figure size 1000x800 with 20 Axes>"
      ]
     },
     "metadata": {},
     "output_type": "display_data"
    }
   ],
   "source": [
    "import matplotlib.pyplot as plt \n",
    "from scipy.ndimage import rotate\n",
    "\n",
    "fig,axes = plt.subplots(4,5,figsize=(10,8))\n",
    "for i,ax in enumerate(axes.flat):\n",
    "    ### We think images should be rotated \n",
    "    ax.imshow(rotate(np.fliplr(np.array(x2[i]).reshape(28, 28)), 90), cmap='gray')"
   ]
  },
  {
   "cell_type": "markdown",
   "metadata": {},
   "source": [
    "Normalisation of data and reshaping "
   ]
  },
  {
   "cell_type": "code",
   "execution_count": 33,
   "metadata": {},
   "outputs": [
    {
     "name": "stdout",
     "output_type": "stream",
     "text": [
      "(88799, 28, 28, 1)\n",
      "(14799, 28, 28, 1)\n"
     ]
    }
   ],
   "source": [
    "# Normalise and reshape data\n",
    "train_images = x1 / 255.0\n",
    "test_images = x2 / 255.0\n",
    "\n",
    "train_images_number = train_images.shape[0]\n",
    "train_images_height = 28\n",
    "train_images_width = 28\n",
    "train_images_size = train_images_height*train_images_width\n",
    "\n",
    "train_images = train_images.reshape(train_images_number, train_images_height, train_images_width, 1)\n",
    "print(train_images.shape)\n",
    "\n",
    "\n",
    "test_images_number = test_images.shape[0]\n",
    "test_images_height = 28\n",
    "test_images_width = 28\n",
    "test_images_size = test_images_height*test_images_width\n",
    "\n",
    "test_images = test_images.reshape(test_images_number, test_images_height, test_images_width, 1)\n",
    "print(test_images.shape)"
   ]
  },
  {
   "cell_type": "code",
   "execution_count": 34,
   "metadata": {},
   "outputs": [
    {
     "data": {
      "image/png": "[encoded data removed]",
      "text/plain": [
       "<Figure size 1000x800 with 20 Axes>"
      ]
     },
     "metadata": {},
     "output_type": "display_data"
    }
   ],
   "source": [
    "fig,axes = plt.subplots(4,5,figsize=(10,8))\n",
    "for i,ax in enumerate(axes.flat):\n",
    "                                ### reshaping a (1,784) vector into 28x28 matrix\n",
    "    ax.imshow(rotate(np.fliplr(np.array(train_images[i]).reshape(28, 28)), 90), cmap='gray')"
   ]
  },
  {
   "cell_type": "code",
   "execution_count": 37,
   "metadata": {},
   "outputs": [
    {
     "data": {
      "text/plain": [
       "(88799, 26)"
      ]
     },
     "execution_count": 37,
     "metadata": {},
     "output_type": "execute_result"
    }
   ],
   "source": [
    "train_labels = y1\n",
    "test_labels = y2\n",
    "\n",
    "train_labels.shape"
   ]
  },
  {
   "cell_type": "code",
   "execution_count": 11,
   "metadata": {},
   "outputs": [
    {
     "name": "stdout",
     "output_type": "stream",
     "text": [
      "(128, 784)\n"
     ]
    },
    {
     "name": "stderr",
     "output_type": "stream",
     "text": [
      "88799it [00:47, 1868.91it/s]\n"
     ]
    },
    {
     "name": "stdout",
     "output_type": "stream",
     "text": [
      "Acc: 70.35%\n"
     ]
    },
    {
     "name": "stderr",
     "output_type": "stream",
     "text": [
      "88799it [00:40, 2181.59it/s]\n"
     ]
    },
    {
     "name": "stdout",
     "output_type": "stream",
     "text": [
      "Acc: 81.2%\n"
     ]
    },
    {
     "name": "stderr",
     "output_type": "stream",
     "text": [
      "88799it [00:40, 2167.88it/s]\n"
     ]
    },
    {
     "name": "stdout",
     "output_type": "stream",
     "text": [
      "Acc: 83.88%\n"
     ]
    },
    {
     "name": "stderr",
     "output_type": "stream",
     "text": [
      "88799it [00:41, 2156.43it/s]\n"
     ]
    },
    {
     "name": "stdout",
     "output_type": "stream",
     "text": [
      "Acc: 85.34%\n"
     ]
    },
    {
     "name": "stderr",
     "output_type": "stream",
     "text": [
      "88799it [00:41, 2164.56it/s]\n"
     ]
    },
    {
     "name": "stdout",
     "output_type": "stream",
     "text": [
      "Acc: 86.43%\n"
     ]
    },
    {
     "name": "stderr",
     "output_type": "stream",
     "text": [
      "88799it [00:40, 2170.43it/s]\n"
     ]
    },
    {
     "name": "stdout",
     "output_type": "stream",
     "text": [
      "Acc: 87.21%\n"
     ]
    },
    {
     "name": "stderr",
     "output_type": "stream",
     "text": [
      "88799it [00:41, 2155.69it/s]\n"
     ]
    },
    {
     "name": "stdout",
     "output_type": "stream",
     "text": [
      "Acc: 87.68%\n"
     ]
    },
    {
     "name": "stderr",
     "output_type": "stream",
     "text": [
      "88799it [00:41, 2150.05it/s]\n"
     ]
    },
    {
     "name": "stdout",
     "output_type": "stream",
     "text": [
      "Acc: 88.19%\n"
     ]
    },
    {
     "name": "stderr",
     "output_type": "stream",
     "text": [
      "88799it [00:41, 2147.12it/s]\n"
     ]
    },
    {
     "name": "stdout",
     "output_type": "stream",
     "text": [
      "Acc: 88.69%\n"
     ]
    },
    {
     "name": "stderr",
     "output_type": "stream",
     "text": [
      "88799it [00:41, 2160.01it/s]\n"
     ]
    },
    {
     "name": "stdout",
     "output_type": "stream",
     "text": [
      "Acc: 88.97%\n"
     ]
    },
    {
     "name": "stderr",
     "output_type": "stream",
     "text": [
      "88799it [00:41, 2160.57it/s]\n"
     ]
    },
    {
     "name": "stdout",
     "output_type": "stream",
     "text": [
      "Acc: 89.3%\n"
     ]
    },
    {
     "name": "stderr",
     "output_type": "stream",
     "text": [
      "88799it [00:45, 1943.49it/s]\n"
     ]
    },
    {
     "name": "stdout",
     "output_type": "stream",
     "text": [
      "Acc: 89.46%\n"
     ]
    },
    {
     "name": "stderr",
     "output_type": "stream",
     "text": [
      "88799it [00:40, 2187.96it/s]\n"
     ]
    },
    {
     "name": "stdout",
     "output_type": "stream",
     "text": [
      "Acc: 89.57%\n"
     ]
    },
    {
     "name": "stderr",
     "output_type": "stream",
     "text": [
      "88799it [00:43, 2027.62it/s]\n"
     ]
    },
    {
     "name": "stdout",
     "output_type": "stream",
     "text": [
      "Acc: 89.87%\n"
     ]
    },
    {
     "name": "stderr",
     "output_type": "stream",
     "text": [
      "88799it [00:40, 2219.76it/s]\n"
     ]
    },
    {
     "name": "stdout",
     "output_type": "stream",
     "text": [
      "Acc: 90.1%\n"
     ]
    },
    {
     "name": "stderr",
     "output_type": "stream",
     "text": [
      "88799it [00:40, 2190.63it/s]\n"
     ]
    },
    {
     "name": "stdout",
     "output_type": "stream",
     "text": [
      "Acc: 90.24%\n"
     ]
    },
    {
     "name": "stderr",
     "output_type": "stream",
     "text": [
      "88799it [00:40, 2204.48it/s]\n"
     ]
    },
    {
     "name": "stdout",
     "output_type": "stream",
     "text": [
      "Acc: 90.48%\n"
     ]
    },
    {
     "name": "stderr",
     "output_type": "stream",
     "text": [
      "88799it [00:40, 2194.88it/s]\n"
     ]
    },
    {
     "name": "stdout",
     "output_type": "stream",
     "text": [
      "Acc: 90.28%\n"
     ]
    },
    {
     "name": "stderr",
     "output_type": "stream",
     "text": [
      "88799it [00:40, 2198.15it/s]\n"
     ]
    },
    {
     "name": "stdout",
     "output_type": "stream",
     "text": [
      "Acc: 90.58%\n"
     ]
    },
    {
     "name": "stderr",
     "output_type": "stream",
     "text": [
      "88799it [00:40, 2200.99it/s]\n"
     ]
    },
    {
     "name": "stdout",
     "output_type": "stream",
     "text": [
      "Acc: 90.63%\n"
     ]
    },
    {
     "name": "stderr",
     "output_type": "stream",
     "text": [
      "88799it [00:40, 2192.41it/s]\n"
     ]
    },
    {
     "name": "stdout",
     "output_type": "stream",
     "text": [
      "Acc: 90.8%\n"
     ]
    },
    {
     "name": "stderr",
     "output_type": "stream",
     "text": [
      "88799it [00:40, 2184.51it/s]\n"
     ]
    },
    {
     "name": "stdout",
     "output_type": "stream",
     "text": [
      "Acc: 90.97%\n"
     ]
    },
    {
     "name": "stderr",
     "output_type": "stream",
     "text": [
      "88799it [00:40, 2180.99it/s]\n"
     ]
    },
    {
     "name": "stdout",
     "output_type": "stream",
     "text": [
      "Acc: 91.06%\n"
     ]
    },
    {
     "name": "stderr",
     "output_type": "stream",
     "text": [
      "88799it [00:40, 2203.33it/s]\n"
     ]
    },
    {
     "name": "stdout",
     "output_type": "stream",
     "text": [
      "Acc: 91.08%\n"
     ]
    },
    {
     "name": "stderr",
     "output_type": "stream",
     "text": [
      "88799it [00:40, 2195.43it/s]\n"
     ]
    },
    {
     "name": "stdout",
     "output_type": "stream",
     "text": [
      "Acc: 91.15%\n"
     ]
    },
    {
     "name": "stderr",
     "output_type": "stream",
     "text": [
      "88799it [00:40, 2204.94it/s]\n"
     ]
    },
    {
     "name": "stdout",
     "output_type": "stream",
     "text": [
      "Acc: 91.13%\n"
     ]
    },
    {
     "name": "stderr",
     "output_type": "stream",
     "text": [
      "88799it [00:46, 1897.36it/s]\n"
     ]
    },
    {
     "name": "stdout",
     "output_type": "stream",
     "text": [
      "Acc: 91.26%\n"
     ]
    },
    {
     "name": "stderr",
     "output_type": "stream",
     "text": [
      "64036it [00:29, 2152.61it/s]\n"
     ]
    },
    {
     "ename": "KeyboardInterrupt",
     "evalue": "",
     "output_type": "error",
     "traceback": [
      "\u001b[1;31m---------------------------------------------------------------------------\u001b[0m",
      "\u001b[1;31mKeyboardInterrupt\u001b[0m                         Traceback (most recent call last)",
      "Cell \u001b[1;32mIn[11], line 62\u001b[0m\n\u001b[0;32m     59\u001b[0m     w_h1_h2 \u001b[38;5;241m+\u001b[39m\u001b[38;5;241m=\u001b[39m \u001b[38;5;241m-\u001b[39mlearn_rate \u001b[38;5;241m*\u001b[39m delta_h2\u001b[38;5;241m.\u001b[39mdot(np\u001b[38;5;241m.\u001b[39mtranspose(h1))\n\u001b[0;32m     60\u001b[0m     b_h1_h2 \u001b[38;5;241m+\u001b[39m\u001b[38;5;241m=\u001b[39m \u001b[38;5;241m-\u001b[39mlearn_rate \u001b[38;5;241m*\u001b[39m delta_h2\n\u001b[1;32m---> 62\u001b[0m     w_i_h1 \u001b[38;5;241m+\u001b[39m\u001b[38;5;241m=\u001b[39m \u001b[38;5;241m-\u001b[39mlearn_rate \u001b[38;5;241m*\u001b[39m \u001b[43mdelta_h1\u001b[49m\u001b[38;5;241;43m.\u001b[39;49m\u001b[43mdot\u001b[49m\u001b[43m(\u001b[49m\u001b[43mnp\u001b[49m\u001b[38;5;241;43m.\u001b[39;49m\u001b[43mtranspose\u001b[49m\u001b[43m(\u001b[49m\u001b[43mimg\u001b[49m\u001b[43m)\u001b[49m\u001b[43m)\u001b[49m\n\u001b[0;32m     63\u001b[0m     b_i_h1 \u001b[38;5;241m+\u001b[39m\u001b[38;5;241m=\u001b[39m \u001b[38;5;241m-\u001b[39mlearn_rate \u001b[38;5;241m*\u001b[39m delta_h1\n\u001b[0;32m     65\u001b[0m \u001b[38;5;66;03m# Show accuracy for this epoch\u001b[39;00m\n",
      "\u001b[1;31mKeyboardInterrupt\u001b[0m: "
     ]
    }
   ],
   "source": [
    "\n",
    "from tqdm import tqdm\n",
    "label_count = 26\n",
    "pixels = 28 * 28\n",
    "\n",
    "input_size = pixels\n",
    "hidden1_size = 128\n",
    "hidden2_size = 64\n",
    "\n",
    "hidden3_size = 32\n",
    "\n",
    "output_size = 26\n",
    "\n",
    "### WEIGHTS FOR EACH LAYER\n",
    "w_i_h1 = np.random.uniform(-0.5, 0.5, (hidden1_size, input_size))\n",
    "w_h1_h2 = np.random.uniform(-0.5, 0.5, (hidden2_size, hidden1_size))\n",
    "w_h2_o = np.random.uniform(-0.5, 0.5, (output_size, hidden2_size))\n",
    "\n",
    "### BIASES OF EACH LAYER\n",
    "b_i_h1 = np.zeros((hidden1_size, 1))\n",
    "b_h1_h2 = np.zeros((hidden2_size, 1))\n",
    "b_h2_o = np.zeros((output_size, 1))\n",
    "### \n",
    "\n",
    "print(w_i_h1.shape)\n",
    "\n",
    "learn_rate = 0.01\n",
    "nr_correct = 0\n",
    "epochs = 100\n",
    "\n",
    "cur_step = 0\n",
    "for epoch in range(epochs):\n",
    "    for img, l in tqdm(zip(train_images, train_labels)):\n",
    "        #img = np.reshape(img, (len(img), 1))\n",
    "        #l = np.reshape(l, (len(l), 1))\n",
    "        \n",
    "        img = img.reshape(-1, 1)  # Reshape img to a column vector\n",
    "        l = l.reshape(-1, 1)      ## reshape labels to a column vector\n",
    "\n",
    "        # Forward propagation\n",
    "        h1_pre = b_i_h1 + w_i_h1.dot(img)\n",
    "        h1 = np.maximum(0, h1_pre)    ## sigmoid activ.\n",
    "        \n",
    "        h2_pre = b_h1_h2 + w_h1_h2.dot(h1)\n",
    "        h2 = np.maximum(0, h2_pre)   ## sigmoid activation \n",
    "    \n",
    "        o_pre = b_h2_o + w_h2_o.dot(h2)\n",
    "        o = 1 / (1 + np.exp(-o_pre))     ## sigmoid activ.  maybe ReLU activation would be better?\n",
    "\n",
    "        # Cost / Error calculation\n",
    "        e = 1 / len(o) * np.sum((o - l) ** 2, axis=0)\n",
    "        nr_correct += int(np.argmax(o) == np.argmax(l))\n",
    "        ## \n",
    "        # Backpropagation\n",
    "        partial_o = o - l                               ### Sigmoid deriv.\n",
    "        delta_h2 = np.transpose(w_h2_o).dot(partial_o) * (h2 > 0)\n",
    "                                                        ## Sigmoid deriv. \n",
    "        delta_h1 = np.transpose(w_h1_h2).dot(delta_h2) * (h1 > 0)\n",
    "        \n",
    "        w_h2_o += -learn_rate * partial_o.dot(np.transpose(h2))\n",
    "        b_h2_o += -learn_rate * partial_o\n",
    "        \n",
    "        w_h1_h2 += -learn_rate * delta_h2.dot(np.transpose(h1))\n",
    "        b_h1_h2 += -learn_rate * delta_h2\n",
    "        \n",
    "        w_i_h1 += -learn_rate * delta_h1.dot(np.transpose(img))\n",
    "        b_i_h1 += -learn_rate * delta_h1\n",
    "\n",
    "    # Show accuracy for this epoch\n",
    "    print(f\"Acc: {round((nr_correct / train_images.shape[0]) * 100, 2)}%\")\n",
    "    nr_correct = 0\n"
   ]
  },
  {
   "cell_type": "code",
   "execution_count": 39,
   "metadata": {},
   "outputs": [
    {
     "name": "stdout",
     "output_type": "stream",
     "text": [
      "(256, 784)\n"
     ]
    },
    {
     "name": "stderr",
     "output_type": "stream",
     "text": [
      "0it [00:00, ?it/s]C:\\Users\\Artur\\AppData\\Local\\Temp\\ipykernel_6232\\642227836.py:48: RuntimeWarning: overflow encountered in exp\n",
      "  o = 1 / (1 + np.exp(-o_pre))\n",
      "88799it [02:02, 726.32it/s]\n"
     ]
    },
    {
     "name": "stdout",
     "output_type": "stream",
     "text": [
      "Acc: 57.53%\n"
     ]
    },
    {
     "name": "stderr",
     "output_type": "stream",
     "text": [
      "88799it [02:01, 730.08it/s]\n"
     ]
    },
    {
     "name": "stdout",
     "output_type": "stream",
     "text": [
      "Acc: 78.34%\n"
     ]
    },
    {
     "name": "stderr",
     "output_type": "stream",
     "text": [
      "88799it [02:04, 711.11it/s]\n"
     ]
    },
    {
     "name": "stdout",
     "output_type": "stream",
     "text": [
      "Acc: 82.69%\n"
     ]
    },
    {
     "name": "stderr",
     "output_type": "stream",
     "text": [
      "88799it [02:01, 732.34it/s]\n"
     ]
    },
    {
     "name": "stdout",
     "output_type": "stream",
     "text": [
      "Acc: 84.62%\n"
     ]
    },
    {
     "name": "stderr",
     "output_type": "stream",
     "text": [
      "88799it [02:01, 733.26it/s]\n"
     ]
    },
    {
     "name": "stdout",
     "output_type": "stream",
     "text": [
      "Acc: 86.11%\n"
     ]
    },
    {
     "name": "stderr",
     "output_type": "stream",
     "text": [
      "88799it [02:01, 732.84it/s]\n"
     ]
    },
    {
     "name": "stdout",
     "output_type": "stream",
     "text": [
      "Acc: 86.99%\n"
     ]
    },
    {
     "name": "stderr",
     "output_type": "stream",
     "text": [
      "88799it [02:01, 731.96it/s]\n"
     ]
    },
    {
     "name": "stdout",
     "output_type": "stream",
     "text": [
      "Acc: 87.75%\n"
     ]
    },
    {
     "name": "stderr",
     "output_type": "stream",
     "text": [
      "88799it [02:01, 731.60it/s]\n"
     ]
    },
    {
     "name": "stdout",
     "output_type": "stream",
     "text": [
      "Acc: 88.27%\n"
     ]
    },
    {
     "name": "stderr",
     "output_type": "stream",
     "text": [
      "88799it [02:02, 727.00it/s]\n"
     ]
    },
    {
     "name": "stdout",
     "output_type": "stream",
     "text": [
      "Acc: 88.91%\n"
     ]
    },
    {
     "name": "stderr",
     "output_type": "stream",
     "text": [
      "88799it [02:01, 728.69it/s]\n"
     ]
    },
    {
     "name": "stdout",
     "output_type": "stream",
     "text": [
      "Acc: 89.13%\n"
     ]
    },
    {
     "name": "stderr",
     "output_type": "stream",
     "text": [
      "88799it [02:01, 731.36it/s]\n"
     ]
    },
    {
     "name": "stdout",
     "output_type": "stream",
     "text": [
      "Acc: 89.46%\n"
     ]
    },
    {
     "name": "stderr",
     "output_type": "stream",
     "text": [
      "88799it [02:01, 732.91it/s]\n"
     ]
    },
    {
     "name": "stdout",
     "output_type": "stream",
     "text": [
      "Acc: 89.79%\n"
     ]
    },
    {
     "name": "stderr",
     "output_type": "stream",
     "text": [
      "88799it [01:59, 745.30it/s]\n"
     ]
    },
    {
     "name": "stdout",
     "output_type": "stream",
     "text": [
      "Acc: 89.91%\n"
     ]
    },
    {
     "name": "stderr",
     "output_type": "stream",
     "text": [
      "88799it [01:59, 740.37it/s]\n"
     ]
    },
    {
     "name": "stdout",
     "output_type": "stream",
     "text": [
      "Acc: 90.14%\n"
     ]
    },
    {
     "name": "stderr",
     "output_type": "stream",
     "text": [
      "88799it [02:05, 705.01it/s]\n"
     ]
    },
    {
     "name": "stdout",
     "output_type": "stream",
     "text": [
      "Acc: 90.48%\n"
     ]
    },
    {
     "name": "stderr",
     "output_type": "stream",
     "text": [
      "88799it [02:02, 724.52it/s]\n"
     ]
    },
    {
     "name": "stdout",
     "output_type": "stream",
     "text": [
      "Acc: 90.68%\n"
     ]
    },
    {
     "name": "stderr",
     "output_type": "stream",
     "text": [
      "88799it [02:03, 720.51it/s]\n"
     ]
    },
    {
     "name": "stdout",
     "output_type": "stream",
     "text": [
      "Acc: 90.92%\n"
     ]
    },
    {
     "name": "stderr",
     "output_type": "stream",
     "text": [
      "88799it [02:03, 718.55it/s]\n"
     ]
    },
    {
     "name": "stdout",
     "output_type": "stream",
     "text": [
      "Acc: 91.0%\n"
     ]
    },
    {
     "name": "stderr",
     "output_type": "stream",
     "text": [
      "30226it [00:42, 716.23it/s]\n"
     ]
    },
    {
     "ename": "KeyboardInterrupt",
     "evalue": "",
     "output_type": "error",
     "traceback": [
      "\u001b[1;31m---------------------------------------------------------------------------\u001b[0m",
      "\u001b[1;31mKeyboardInterrupt\u001b[0m                         Traceback (most recent call last)",
      "Cell \u001b[1;32mIn[39], line 70\u001b[0m\n\u001b[0;32m     67\u001b[0m     w_h1_h2 \u001b[38;5;241m+\u001b[39m\u001b[38;5;241m=\u001b[39m \u001b[38;5;241m-\u001b[39mlearn_rate \u001b[38;5;241m*\u001b[39m delta_h2\u001b[38;5;241m.\u001b[39mdot(np\u001b[38;5;241m.\u001b[39mtranspose(h1))\n\u001b[0;32m     68\u001b[0m     b_h1_h2 \u001b[38;5;241m+\u001b[39m\u001b[38;5;241m=\u001b[39m \u001b[38;5;241m-\u001b[39mlearn_rate \u001b[38;5;241m*\u001b[39m delta_h2\n\u001b[1;32m---> 70\u001b[0m     w_i_h1 \u001b[38;5;241m+\u001b[39m\u001b[38;5;241m=\u001b[39m \u001b[38;5;241m-\u001b[39mlearn_rate \u001b[38;5;241m*\u001b[39m delta_h1\u001b[38;5;241m.\u001b[39mdot(np\u001b[38;5;241m.\u001b[39mtranspose(img))\n\u001b[0;32m     71\u001b[0m     b_i_h1 \u001b[38;5;241m+\u001b[39m\u001b[38;5;241m=\u001b[39m \u001b[38;5;241m-\u001b[39mlearn_rate \u001b[38;5;241m*\u001b[39m delta_h1\n\u001b[0;32m     73\u001b[0m \u001b[38;5;66;03m# Show accuracy for this epoch\u001b[39;00m\n",
      "\u001b[1;31mKeyboardInterrupt\u001b[0m: "
     ]
    }
   ],
   "source": [
    "from tqdm import tqdm\n",
    "label_count = 26\n",
    "pixels = 28 * 28\n",
    "\n",
    "input_size = pixels\n",
    "hidden1_size = 256\n",
    "hidden2_size = 128\n",
    "hidden3_size = 64  # New hidden layer size\n",
    "\n",
    "output_size = 26\n",
    "\n",
    "\n",
    "# WEIGHTS FOR EACH LAYER\n",
    "w_i_h1 = np.random.uniform(-0.5, 0.5, (hidden1_size, input_size))\n",
    "w_h1_h2 = np.random.uniform(-0.5, 0.5, (hidden2_size, hidden1_size))\n",
    "w_h2_h3 = np.random.uniform(-0.5, 0.5, (hidden3_size, hidden2_size))  # New weights\n",
    "w_h3_o = np.random.uniform(-0.5, 0.5, (output_size, hidden3_size))    \n",
    "\n",
    "# BIASES OF EACH LAYER\n",
    "b_i_h1 = np.zeros((hidden1_size, 1))\n",
    "b_h1_h2 = np.zeros((hidden2_size, 1))\n",
    "b_h2_h3 = np.zeros((hidden3_size, 1))  # New biases\n",
    "b_h3_o = np.zeros((output_size, 1))\n",
    "\n",
    "print(w_i_h1.shape)\n",
    "\n",
    "learn_rate = 0.01\n",
    "nr_correct = 0\n",
    "epochs = 100\n",
    "\n",
    "cur_step = 0\n",
    "for epoch in range(epochs):\n",
    "    for img, l in tqdm(zip(train_images, train_labels)):\n",
    "        img = img.reshape(-1, 1)  # Reshape img to a column vector\n",
    "        l = l.reshape(-1, 1)      # reshape labels to a column vector\n",
    "\n",
    "        # Forward propagation\n",
    "        h1_pre = b_i_h1 + w_i_h1.dot(img)\n",
    "        h1 = np.maximum(0, h1_pre) \n",
    "\n",
    "        h2_pre = b_h1_h2 + w_h1_h2.dot(h1)\n",
    "        h2 = np.maximum(0, h2_pre)\n",
    "        \n",
    "        h3_pre = b_h2_h3 + w_h2_h3.dot(h2)  # New layer calculation\n",
    "        h3 = np.maximum(0, h3_pre)\n",
    "\n",
    "        o_pre = b_h3_o + w_h3_o.dot(h3)\n",
    "        o = 1 / (1 + np.exp(-o_pre))\n",
    "\n",
    "        # Cost / Error calculation\n",
    "        e = 1 / len(o) * np.sum((o - l) ** 2, axis=0)\n",
    "        nr_correct += int(np.argmax(o) == np.argmax(l))\n",
    "\n",
    "        # Backpropagation\n",
    "        partial_o = o - l\n",
    "        delta_h3 = np.transpose(w_h3_o).dot(partial_o) * (h3 > 0)  # New layer gradients calculation\n",
    "        \n",
    "        delta_h2 = np.transpose(w_h2_h3).dot(delta_h3) * (h2 > 0)\n",
    "        delta_h1 = np.transpose(w_h1_h2).dot(delta_h2) * (h1 > 0)\n",
    "        \n",
    "        w_h3_o += -learn_rate * partial_o.dot(np.transpose(h3))\n",
    "        b_h3_o += -learn_rate * partial_o\n",
    "        \n",
    "        w_h2_h3 += -learn_rate * delta_h3.dot(np.transpose(h2))\n",
    "        b_h2_h3 += -learn_rate * delta_h3\n",
    "        \n",
    "        w_h1_h2 += -learn_rate * delta_h2.dot(np.transpose(h1))\n",
    "        b_h1_h2 += -learn_rate * delta_h2\n",
    "        \n",
    "        w_i_h1 += -learn_rate * delta_h1.dot(np.transpose(img))\n",
    "        b_i_h1 += -learn_rate * delta_h1\n",
    "\n",
    "    # Show accuracy for this epoch\n",
    "    print(f\"Acc: {round((nr_correct / train_images.shape[0]) * 100, 2)}%\")\n",
    "    nr_correct = 0\n"
   ]
  },
  {
   "cell_type": "code",
   "execution_count": 42,
   "metadata": {},
   "outputs": [
    {
     "name": "stdout",
     "output_type": "stream",
     "text": [
      "(256, 784)\n"
     ]
    },
    {
     "name": "stderr",
     "output_type": "stream",
     "text": [
      "0it [00:00, ?it/s]"
     ]
    },
    {
     "name": "stderr",
     "output_type": "stream",
     "text": [
      "88799it [02:05, 709.72it/s]\n"
     ]
    },
    {
     "name": "stdout",
     "output_type": "stream",
     "text": [
      "Acc: 69.24%\n"
     ]
    },
    {
     "name": "stderr",
     "output_type": "stream",
     "text": [
      "88799it [02:04, 711.16it/s]\n"
     ]
    },
    {
     "name": "stdout",
     "output_type": "stream",
     "text": [
      "Acc: 83.35%\n"
     ]
    },
    {
     "name": "stderr",
     "output_type": "stream",
     "text": [
      "88799it [02:09, 684.56it/s]\n"
     ]
    },
    {
     "name": "stdout",
     "output_type": "stream",
     "text": [
      "Acc: 86.47%\n"
     ]
    },
    {
     "name": "stderr",
     "output_type": "stream",
     "text": [
      "88799it [02:04, 713.07it/s]\n"
     ]
    },
    {
     "name": "stdout",
     "output_type": "stream",
     "text": [
      "Acc: 88.11%\n"
     ]
    },
    {
     "name": "stderr",
     "output_type": "stream",
     "text": [
      "88799it [02:04, 714.80it/s]\n"
     ]
    },
    {
     "name": "stdout",
     "output_type": "stream",
     "text": [
      "Acc: 89.27%\n"
     ]
    },
    {
     "name": "stderr",
     "output_type": "stream",
     "text": [
      "88799it [02:04, 715.27it/s]\n"
     ]
    },
    {
     "name": "stdout",
     "output_type": "stream",
     "text": [
      "Acc: 89.99%\n"
     ]
    },
    {
     "name": "stderr",
     "output_type": "stream",
     "text": [
      "88799it [02:03, 717.58it/s]\n"
     ]
    },
    {
     "name": "stdout",
     "output_type": "stream",
     "text": [
      "Acc: 90.51%\n"
     ]
    },
    {
     "name": "stderr",
     "output_type": "stream",
     "text": [
      "88799it [02:04, 713.44it/s]\n"
     ]
    },
    {
     "name": "stdout",
     "output_type": "stream",
     "text": [
      "Acc: 91.11%\n"
     ]
    },
    {
     "name": "stderr",
     "output_type": "stream",
     "text": [
      "88799it [02:06, 704.73it/s]\n"
     ]
    },
    {
     "name": "stdout",
     "output_type": "stream",
     "text": [
      "Acc: 91.31%\n"
     ]
    },
    {
     "name": "stderr",
     "output_type": "stream",
     "text": [
      "88799it [02:08, 692.35it/s]\n"
     ]
    },
    {
     "name": "stdout",
     "output_type": "stream",
     "text": [
      "Acc: 91.66%\n"
     ]
    },
    {
     "name": "stderr",
     "output_type": "stream",
     "text": [
      "88799it [02:04, 714.79it/s]\n"
     ]
    },
    {
     "name": "stdout",
     "output_type": "stream",
     "text": [
      "Acc: 92.24%\n"
     ]
    },
    {
     "name": "stderr",
     "output_type": "stream",
     "text": [
      "85655it [01:59, 716.82it/s]\n"
     ]
    },
    {
     "ename": "KeyboardInterrupt",
     "evalue": "",
     "output_type": "error",
     "traceback": [
      "\u001b[1;31m---------------------------------------------------------------------------\u001b[0m",
      "\u001b[1;31mKeyboardInterrupt\u001b[0m                         Traceback (most recent call last)",
      "Cell \u001b[1;32mIn[42], line 69\u001b[0m\n\u001b[0;32m     66\u001b[0m     w_h1_h2 \u001b[38;5;241m+\u001b[39m\u001b[38;5;241m=\u001b[39m \u001b[38;5;241m-\u001b[39mlearn_rate \u001b[38;5;241m*\u001b[39m delta_h2\u001b[38;5;241m.\u001b[39mdot(np\u001b[38;5;241m.\u001b[39mtranspose(h1))\n\u001b[0;32m     67\u001b[0m     b_h1_h2 \u001b[38;5;241m+\u001b[39m\u001b[38;5;241m=\u001b[39m \u001b[38;5;241m-\u001b[39mlearn_rate \u001b[38;5;241m*\u001b[39m delta_h2\n\u001b[1;32m---> 69\u001b[0m     w_i_h1 \u001b[38;5;241m+\u001b[39m\u001b[38;5;241m=\u001b[39m \u001b[38;5;241;43m-\u001b[39;49m\u001b[43mlearn_rate\u001b[49m\u001b[43m \u001b[49m\u001b[38;5;241;43m*\u001b[39;49m\u001b[43m \u001b[49m\u001b[43mdelta_h1\u001b[49m\u001b[38;5;241;43m.\u001b[39;49m\u001b[43mdot\u001b[49m\u001b[43m(\u001b[49m\u001b[43mnp\u001b[49m\u001b[38;5;241;43m.\u001b[39;49m\u001b[43mtranspose\u001b[49m\u001b[43m(\u001b[49m\u001b[43mimg\u001b[49m\u001b[43m)\u001b[49m\u001b[43m)\u001b[49m\n\u001b[0;32m     70\u001b[0m     b_i_h1 \u001b[38;5;241m+\u001b[39m\u001b[38;5;241m=\u001b[39m \u001b[38;5;241m-\u001b[39mlearn_rate \u001b[38;5;241m*\u001b[39m delta_h1\n\u001b[0;32m     72\u001b[0m \u001b[38;5;66;03m# Show accuracy for this epoch\u001b[39;00m\n",
      "\u001b[1;31mKeyboardInterrupt\u001b[0m: "
     ]
    }
   ],
   "source": [
    "from tqdm import tqdm\n",
    "label_count = 26\n",
    "pixels = 28 * 28\n",
    "\n",
    "input_size = pixels\n",
    "hidden1_size = 256\n",
    "hidden2_size = 128\n",
    "hidden3_size = 64  \n",
    "\n",
    "output_size = 26\n",
    "\n",
    "# WEIGHTS FOR EACH LAYER\n",
    "w_i_h1 = np.random.uniform(-0.5, 0.5, (hidden1_size, input_size))\n",
    "w_h1_h2 = np.random.uniform(-0.5, 0.5, (hidden2_size, hidden1_size))\n",
    "w_h2_h3 = np.random.uniform(-0.5, 0.5, (hidden3_size, hidden2_size))  \n",
    "w_h3_o = np.random.uniform(-0.5, 0.5, (output_size, hidden3_size))    \n",
    "\n",
    "# BIASES OF EACH LAYER\n",
    "b_i_h1 = np.zeros((hidden1_size, 1))\n",
    "b_h1_h2 = np.zeros((hidden2_size, 1))\n",
    "b_h2_h3 = np.zeros((hidden3_size, 1))  \n",
    "b_h3_o = np.zeros((output_size, 1))\n",
    "\n",
    "print(w_i_h1.shape)\n",
    "\n",
    "learn_rate = 0.01\n",
    "nr_correct = 0\n",
    "epochs = 100\n",
    "\n",
    "cur_step = 0\n",
    "for epoch in range(epochs):\n",
    "    for img, l in tqdm(zip(train_images, train_labels)):\n",
    "        img = img.reshape(-1, 1)  # Reshape img to a column vector\n",
    "        l = l.reshape(-1, 1)      # reshape labels to a column vector\n",
    "\n",
    "        # Forward propagation\n",
    "        h1_pre = b_i_h1 + w_i_h1.dot(img)\n",
    "        h1 = np.log(1 + np.exp(h1_pre))  # Softplus activation\n",
    "        \n",
    "        h2_pre = b_h1_h2 + w_h1_h2.dot(h1)\n",
    "        h2 = np.log(1 + np.exp(h2_pre))  # Softplus activation\n",
    "        \n",
    "        h3_pre = b_h2_h3 + w_h2_h3.dot(h2)  \n",
    "        h3 = np.log(1 + np.exp(h3_pre))  # Softplus activation\n",
    "\n",
    "        o_pre = b_h3_o + w_h3_o.dot(h3)\n",
    "        o = 1 / (1 + np.exp(-o_pre))\n",
    "\n",
    "        # Cost / Error calculation\n",
    "        e = 1 / len(o) * np.sum((o - l) ** 2, axis=0)\n",
    "        nr_correct += int(np.argmax(o) == np.argmax(l))\n",
    "\n",
    "        # Backpropagation\n",
    "        partial_o = o - l\n",
    "        delta_h3 = np.transpose(w_h3_o).dot(partial_o) * (1 / (1 + np.exp(-h3_pre)))  # Derivative of Softplus\n",
    "        \n",
    "        delta_h2 = np.transpose(w_h2_h3).dot(delta_h3) * (1 / (1 + np.exp(-h2_pre)))  # Derivative of Softplus\n",
    "        delta_h1 = np.transpose(w_h1_h2).dot(delta_h2) * (1 / (1 + np.exp(-h1_pre)))  # Derivative of Softplus\n",
    "        \n",
    "        w_h3_o += -learn_rate * partial_o.dot(np.transpose(h3))\n",
    "        b_h3_o += -learn_rate * partial_o\n",
    "        \n",
    "        w_h2_h3 += -learn_rate * delta_h3.dot(np.transpose(h2))\n",
    "        b_h2_h3 += -learn_rate * delta_h3\n",
    "        \n",
    "        w_h1_h2 += -learn_rate * delta_h2.dot(np.transpose(h1))\n",
    "        b_h1_h2 += -learn_rate * delta_h2\n",
    "        \n",
    "        w_i_h1 += -learn_rate * delta_h1.dot(np.transpose(img))\n",
    "        b_i_h1 += -learn_rate * delta_h1\n",
    "\n",
    "    # Show accuracy for this epoch\n",
    "    print(f\"Acc: {round((nr_correct / train_images.shape[0]) * 100, 2)}%\")\n",
    "    nr_correct = 0\n"
   ]
  },
  {
   "cell_type": "code",
   "execution_count": 43,
   "metadata": {},
   "outputs": [],
   "source": [
    "letter_dict = {0:'A', 1:'B', 2:'C', 3:'D', 4:'E', 5:'F', 6:'G', 7:'H', 8:'I', 9:'J', 10:'K', 11:'L', 12:'M', 13:'N', 14:'O', 15:'P', 16:'Q', 17:'R', 18:'S', 19:'T', 20:'U', 21:'V', 22:'W', 23:'X', 24:'Y', 25:'Z'}"
   ]
  },
  {
   "cell_type": "code",
   "execution_count": 50,
   "metadata": {},
   "outputs": [
    {
     "data": {
      "image/png": "[encoded data removed]",
      "text/plain": [
       "<Figure size 640x480 with 1 Axes>"
      ]
     },
     "metadata": {},
     "output_type": "display_data"
    },
    {
     "data": {
      "image/png": "[encoded data removed]",
      "text/plain": [
       "<Figure size 640x480 with 1 Axes>"
      ]
     },
     "metadata": {},
     "output_type": "display_data"
    },
    {
     "data": {
      "image/png": "[encoded data removed]",
      "text/plain": [
       "<Figure size 640x480 with 1 Axes>"
      ]
     },
     "metadata": {},
     "output_type": "display_data"
    },
    {
     "data": {
      "image/png": "[encoded data removed]",
      "text/plain": [
       "<Figure size 640x480 with 1 Axes>"
      ]
     },
     "metadata": {},
     "output_type": "display_data"
    },
    {
     "ename": "ValueError",
     "evalue": "invalid literal for int() with base 10: ''",
     "output_type": "error",
     "traceback": [
      "\u001b[1;31m---------------------------------------------------------------------------\u001b[0m",
      "\u001b[1;31mValueError\u001b[0m                                Traceback (most recent call last)",
      "Cell \u001b[1;32mIn[50], line 3\u001b[0m\n\u001b[0;32m      1\u001b[0m \u001b[38;5;66;03m# Show results\u001b[39;00m\n\u001b[0;32m      2\u001b[0m \u001b[38;5;28;01mwhile\u001b[39;00m \u001b[38;5;28;01mTrue\u001b[39;00m:\n\u001b[1;32m----> 3\u001b[0m     index \u001b[38;5;241m=\u001b[39m \u001b[38;5;28;43mint\u001b[39;49m\u001b[43m(\u001b[49m\u001b[38;5;28;43minput\u001b[39;49m\u001b[43m(\u001b[49m\u001b[38;5;124;43m\"\u001b[39;49m\u001b[38;5;124;43mEnter a number (0 - 14798): \u001b[39;49m\u001b[38;5;124;43m\"\u001b[39;49m\u001b[43m)\u001b[49m\u001b[43m)\u001b[49m\n\u001b[0;32m      4\u001b[0m     img \u001b[38;5;241m=\u001b[39m test_images[index]\n\u001b[0;32m      5\u001b[0m     plt\u001b[38;5;241m.\u001b[39mimshow(np\u001b[38;5;241m.\u001b[39mfliplr(rotate(img\u001b[38;5;241m.\u001b[39mreshape(\u001b[38;5;241m28\u001b[39m, \u001b[38;5;241m28\u001b[39m),\u001b[38;5;241m-\u001b[39m\u001b[38;5;241m90\u001b[39m)), cmap\u001b[38;5;241m=\u001b[39m\u001b[38;5;124m\"\u001b[39m\u001b[38;5;124mGreys\u001b[39m\u001b[38;5;124m\"\u001b[39m)\n",
      "\u001b[1;31mValueError\u001b[0m: invalid literal for int() with base 10: ''"
     ]
    }
   ],
   "source": [
    "# Show results\n",
    "while True:\n",
    "    index = int(input(\"Enter a number (0 - 14798): \"))\n",
    "    img = test_images[index]\n",
    "    plt.imshow(np.fliplr(rotate(img.reshape(28, 28),-90)), cmap=\"Greys\")\n",
    "    \n",
    "    img = img.reshape(-1,1)\n",
    "    # Forward propagation\n",
    "    h1_pre = b_i_h1 + w_i_h1.dot(img)\n",
    "    h1 = np.log(1 + np.exp(h1_pre))  # Softplus activation\n",
    "    \n",
    "    h2_pre = b_h1_h2 + w_h1_h2.dot(h1)\n",
    "    h2 = np.log(1 + np.exp(h2_pre))  # Softplus activation\n",
    "    \n",
    "    h3_pre = b_h2_h3 + w_h2_h3.dot(h2)\n",
    "    h3 = np.log(1 + np.exp(h3_pre))  # Softplus activation\n",
    "    \n",
    "    o_pre = b_h3_o + w_h3_o.dot(h3)\n",
    "    o = 1 / (1 + np.exp(-o_pre))\n",
    "\n",
    "    plt.title(f\"Looks like {letter_dict[o.argmax()]} :)\")\n",
    "    plt.show()\n"
   ]
  }
 ],
 "metadata": {
  "kernelspec": {
   "display_name": "lighthouse",
   "language": "python",
   "name": "python3"
  },
  "language_info": {
   "codemirror_mode": {
    "name": "ipython",
    "version": 3
   },
   "file_extension": ".py",
   "mimetype": "text/x-python",
   "name": "python",
   "nbconvert_exporter": "python",
   "pygments_lexer": "ipython3",
   "version": "3.8.18"
  }
 },
 "nbformat": 4,
 "nbformat_minor": 2
}
